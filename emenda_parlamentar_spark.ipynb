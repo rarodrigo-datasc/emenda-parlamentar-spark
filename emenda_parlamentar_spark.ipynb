{
  "nbformat": 4,
  "nbformat_minor": 0,
  "metadata": {
    "colab": {
      "provenance": [],
      "authorship_tag": "ABX9TyNYCWUMY7GpveEubNhck82w",
      "include_colab_link": true
    },
    "kernelspec": {
      "name": "python3",
      "display_name": "Python 3"
    },
    "language_info": {
      "name": "python"
    }
  },
  "cells": [
    {
      "cell_type": "markdown",
      "metadata": {
        "id": "view-in-github",
        "colab_type": "text"
      },
      "source": [
        "<a href=\"https://colab.research.google.com/github/rarodrigo-datasc/emenda-parlamentar-spark/blob/main/emenda_parlamentar_spark.ipynb\" target=\"_parent\"><img src=\"https://colab.research.google.com/assets/colab-badge.svg\" alt=\"Open In Colab\"/></a>"
      ]
    },
    {
      "cell_type": "markdown",
      "source": [
        "## 1. Preparação do Ambiente\n",
        "\n",
        "### 1.1 Instalar as dependências para **Spark**\n",
        "\n",
        "* openjdk-8-jdk-headless: biblioteca `java` sem interface gráfica usada pelo Spark\n",
        "* findspark: a biblioteca Python `findspark` facilita a integração do Spark com o ambiente Python."
      ],
      "metadata": {
        "id": "txUTbPWNo4zp"
      }
    },
    {
      "cell_type": "code",
      "execution_count": null,
      "metadata": {
        "id": "9Qwz_0CTVlWg"
      },
      "outputs": [],
      "source": [
        "!apt update -qq\n",
        "!apt upgrade -y\n",
        "!apt install openjdk-8-jdk-headless -qq > /dev/null\n",
        "!wget -q https://archive.apache.org/dist/spark/spark-3.1.2/spark-3.1.2-bin-hadoop2.7.tgz\n",
        "!tar xf spark-3.1.2-bin-hadoop2.7.tgz\n",
        "!pip install -q findspark"
      ]
    },
    {
      "cell_type": "markdown",
      "source": [
        "### 1.2 Configurar as variáveis de ambiente"
      ],
      "metadata": {
        "id": "uH3eLtFbqhyz"
      }
    },
    {
      "cell_type": "code",
      "source": [
        "import os\n",
        "os.environ[\"JAVA_HOME\"] = \"/usr/lib/jvm/java-8-openjdk-amd64\"\n",
        "os.environ[\"SPARK_HOME\"] = \"/content/spark-3.1.2-bin-hadoop2.7\""
      ],
      "metadata": {
        "id": "JaJZxiCEoMiw"
      },
      "execution_count": 2,
      "outputs": []
    },
    {
      "cell_type": "markdown",
      "source": [
        "### 1.3 Inicializar o módulo `findspark`\n",
        "\n",
        "Configura o ambiente Python para encontrar os módulos e bibliotecas do Spark."
      ],
      "metadata": {
        "id": "pTZcZHn0rP_d"
      }
    },
    {
      "cell_type": "code",
      "source": [
        "import findspark\n",
        "findspark.init('spark-3.1.2-bin-hadoop2.7')"
      ],
      "metadata": {
        "id": "AlIMckWaoT7f"
      },
      "execution_count": 3,
      "outputs": []
    },
    {
      "cell_type": "markdown",
      "source": [
        "\n",
        "## 2. Preparação dos Dados\n",
        "\n",
        "### 2.1 Configurar SparkSession\n",
        "\n",
        "* Criar uma sessão spark para interagir com os dados usando DataFrames e Datasets;\n"
      ],
      "metadata": {
        "id": "zYdQh5XvrHS_"
      }
    },
    {
      "cell_type": "code",
      "source": [
        "from pyspark.sql import SparkSession\n",
        "spark = SparkSession.builder.master('local[*]').appName(\"emenda-parlamentar-spark\").config('spark.ui.port', '4050').getOrCreate()\n"
      ],
      "metadata": {
        "id": "YX7rbd-bpUdu"
      },
      "execution_count": 4,
      "outputs": []
    },
    {
      "cell_type": "markdown",
      "source": [
        "### 2.2 Carregar os dados\n",
        "\n",
        "Procedimento manual\n",
        "\n",
        "* Fazer download da base de dados em `https://github.com/rarodrigo-datasc/emenda-parlamentar-spark/blob/9ad7c0777998d337f00ae00ee11efedc7aa54127/EmendasParlamentares.zip`;\n",
        "* Fazer upload da base de dados para o projeto;\n",
        "\n",
        "Extração da base\n",
        "\n",
        "* Extrair a base de dados no formato \".zip\";\n",
        "* Ler os dados extraídos."
      ],
      "metadata": {
        "id": "sgu3G7H7276z"
      }
    },
    {
      "cell_type": "code",
      "source": [
        "import zipfile\n",
        "zipfile.ZipFile('./EmendasParlamentares.zip').extractall()\n"
      ],
      "metadata": {
        "id": "khi9WGehj-X2"
      },
      "execution_count": 6,
      "outputs": []
    },
    {
      "cell_type": "code",
      "source": [
        "df = spark.read.csv('./Emendas.csv', sep=';', encoding='ISO-8859-1', header=True)\n",
        "df.printSchema()\n",
        "df.show()\n"
      ],
      "metadata": {
        "id": "9yrZdW39kF4C"
      },
      "execution_count": null,
      "outputs": []
    }
  ]
}