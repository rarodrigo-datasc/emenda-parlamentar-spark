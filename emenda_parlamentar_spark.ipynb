{
  "nbformat": 4,
  "nbformat_minor": 0,
  "metadata": {
    "colab": {
      "provenance": [],
      "authorship_tag": "ABX9TyNYCWUMY7GpveEubNhck82w",
      "include_colab_link": true
    },
    "kernelspec": {
      "name": "python3",
      "display_name": "Python 3"
    },
    "language_info": {
      "name": "python"
    }
  },
  "cells": [
    {
      "cell_type": "markdown",
      "metadata": {
        "id": "view-in-github",
        "colab_type": "text"
      },
      "source": [
        "<a href=\"https://colab.research.google.com/github/rarodrigo-datasc/emenda-parlamentar-spark/blob/main/emenda_parlamentar_spark.ipynb\" target=\"_parent\"><img src=\"https://colab.research.google.com/assets/colab-badge.svg\" alt=\"Open In Colab\"/></a>"
      ]
    },
    {
      "cell_type": "markdown",
      "source": [
        "## 1. Preparação do Ambiente\n",
        "\n",
        "### 1.1 Instalar as dependências para **Spark**\n",
        "\n",
        "* openjdk-8-jdk-headless: biblioteca `java` sem interface gráfica usada pelo Spark\n",
        "* findspark: a biblioteca Python `findspark` facilita a integração do Spark com o ambiente Python."
      ],
      "metadata": {
        "id": "txUTbPWNo4zp"
      }
    },
    {
      "cell_type": "code",
      "execution_count": 1,
      "metadata": {
        "colab": {
          "base_uri": "https://localhost:8080/"
        },
        "id": "9Qwz_0CTVlWg",
        "outputId": "655d87f9-ea5b-4b8e-ebd4-2f27b7c4f56f",
        "collapsed": true
      },
      "outputs": [
        {
          "output_type": "stream",
          "name": "stdout",
          "text": [
            "47 packages can be upgraded. Run 'apt list --upgradable' to see them.\n",
            "Reading package lists... Done\n",
            "Building dependency tree... Done\n",
            "Reading state information... Done\n",
            "Calculating upgrade... Done\n",
            "The following packages have been kept back:\n",
            "  libcudnn8 libcudnn8-dev libnccl-dev libnccl2\n",
            "The following packages will be upgraded:\n",
            "  base-files bash binutils binutils-common binutils-x86-64-linux-gnu bsdutils coreutils\n",
            "  cuda-compat-12-2 cuda-keyring cuda-toolkit-12-config-common cuda-toolkit-config-common dpkg\n",
            "  dpkg-dev libbinutils libblkid1 libc-bin libcdio19 libctf-nobfd0 libctf0 libcups2 libdpkg-perl\n",
            "  libgnutls30 libldap-2.5-0 libmount1 libpam-modules libpam-modules-bin libpam-runtime libpam0g\n",
            "  libperl5.34 libprocps8 libsmartcols1 libudev1 linux-libc-dev login mount openssl passwd perl\n",
            "  perl-base perl-modules-5.34 procps tar util-linux\n",
            "43 upgraded, 0 newly installed, 0 to remove and 4 not upgraded.\n",
            "Need to get 59.9 MB of archives.\n",
            "After this operation, 124 kB of additional disk space will be used.\n",
            "Get:1 https://developer.download.nvidia.com/compute/cuda/repos/ubuntu2204/x86_64  cuda-compat-12-2 535.183.01-1 [33.6 MB]\n",
            "Get:2 http://security.ubuntu.com/ubuntu jammy-security/main amd64 libcdio19 amd64 2.1.0-3ubuntu0.2 [63.6 kB]\n",
            "Get:3 http://archive.ubuntu.com/ubuntu jammy-updates/main amd64 base-files amd64 12ubuntu4.6 [62.5 kB]\n",
            "Get:4 http://archive.ubuntu.com/ubuntu jammy-updates/main amd64 bash amd64 5.1-6ubuntu1.1 [769 kB]\n",
            "Get:5 https://developer.download.nvidia.com/compute/cuda/repos/ubuntu2204/x86_64  cuda-keyring 1.1-1 [4,332 B]\n",
            "Get:6 https://developer.download.nvidia.com/compute/cuda/repos/ubuntu2204/x86_64  cuda-toolkit-12-config-common 12.5.39-1 [16.5 kB]\n",
            "Get:7 https://developer.download.nvidia.com/compute/cuda/repos/ubuntu2204/x86_64  cuda-toolkit-config-common 12.5.39-1 [16.5 kB]\n",
            "Get:8 http://archive.ubuntu.com/ubuntu jammy-updates/main amd64 bsdutils amd64 1:2.37.2-4ubuntu3.4 [80.9 kB]\n",
            "Get:9 http://archive.ubuntu.com/ubuntu jammy-updates/main amd64 coreutils amd64 8.32-4.1ubuntu1.2 [1,437 kB]\n",
            "Get:10 http://archive.ubuntu.com/ubuntu jammy-updates/main amd64 tar amd64 1.34+dfsg-1ubuntu0.1.22.04.2 [295 kB]\n",
            "Get:11 http://archive.ubuntu.com/ubuntu jammy-updates/main amd64 dpkg amd64 1.21.1ubuntu2.3 [1,239 kB]\n",
            "Get:12 http://archive.ubuntu.com/ubuntu jammy-updates/main amd64 login amd64 1:4.8.1-2ubuntu2.2 [188 kB]\n",
            "Get:13 http://archive.ubuntu.com/ubuntu jammy-updates/main amd64 libperl5.34 amd64 5.34.0-3ubuntu1.3 [4,820 kB]\n",
            "Get:14 http://archive.ubuntu.com/ubuntu jammy-updates/main amd64 perl amd64 5.34.0-3ubuntu1.3 [232 kB]\n",
            "Get:15 http://archive.ubuntu.com/ubuntu jammy-updates/main amd64 perl-base amd64 5.34.0-3ubuntu1.3 [1,762 kB]\n",
            "Get:16 http://archive.ubuntu.com/ubuntu jammy-updates/main amd64 perl-modules-5.34 all 5.34.0-3ubuntu1.3 [2,976 kB]\n",
            "Get:17 http://archive.ubuntu.com/ubuntu jammy-updates/main amd64 util-linux amd64 2.37.2-4ubuntu3.4 [1,063 kB]\n",
            "Get:18 http://archive.ubuntu.com/ubuntu jammy-updates/main amd64 libc-bin amd64 2.35-0ubuntu3.8 [706 kB]\n",
            "Get:19 http://archive.ubuntu.com/ubuntu jammy-updates/main amd64 libpam0g amd64 1.4.0-11ubuntu2.4 [60.2 kB]\n",
            "Get:20 http://archive.ubuntu.com/ubuntu jammy-updates/main amd64 libpam-modules-bin amd64 1.4.0-11ubuntu2.4 [37.6 kB]\n",
            "Get:21 http://archive.ubuntu.com/ubuntu jammy-updates/main amd64 libpam-modules amd64 1.4.0-11ubuntu2.4 [280 kB]\n",
            "Get:22 http://archive.ubuntu.com/ubuntu jammy-updates/main amd64 mount amd64 2.37.2-4ubuntu3.4 [114 kB]\n",
            "Get:23 http://archive.ubuntu.com/ubuntu jammy-updates/main amd64 libblkid1 amd64 2.37.2-4ubuntu3.4 [103 kB]\n",
            "Get:24 http://archive.ubuntu.com/ubuntu jammy-updates/main amd64 libmount1 amd64 2.37.2-4ubuntu3.4 [122 kB]\n",
            "Get:25 http://archive.ubuntu.com/ubuntu jammy-updates/main amd64 libpam-runtime all 1.4.0-11ubuntu2.4 [40.3 kB]\n",
            "Get:26 http://archive.ubuntu.com/ubuntu jammy-updates/main amd64 libsmartcols1 amd64 2.37.2-4ubuntu3.4 [50.9 kB]\n",
            "Get:27 http://archive.ubuntu.com/ubuntu jammy-updates/main amd64 libudev1 amd64 249.11-0ubuntu3.12 [78.2 kB]\n",
            "Get:28 http://archive.ubuntu.com/ubuntu jammy-updates/main amd64 passwd amd64 1:4.8.1-2ubuntu2.2 [768 kB]\n",
            "Get:29 http://archive.ubuntu.com/ubuntu jammy-updates/main amd64 libgnutls30 amd64 3.7.3-4ubuntu1.5 [966 kB]\n",
            "Get:30 http://archive.ubuntu.com/ubuntu jammy-updates/main amd64 libprocps8 amd64 2:3.3.17-6ubuntu2.1 [36.2 kB]\n",
            "Get:31 http://archive.ubuntu.com/ubuntu jammy-updates/main amd64 procps amd64 2:3.3.17-6ubuntu2.1 [378 kB]\n",
            "Get:32 http://archive.ubuntu.com/ubuntu jammy-updates/main amd64 openssl amd64 3.0.2-0ubuntu1.16 [1,186 kB]\n",
            "Get:33 http://archive.ubuntu.com/ubuntu jammy-updates/main amd64 libctf0 amd64 2.38-4ubuntu2.6 [103 kB]\n",
            "Get:34 http://archive.ubuntu.com/ubuntu jammy-updates/main amd64 libctf-nobfd0 amd64 2.38-4ubuntu2.6 [108 kB]\n",
            "Get:35 http://archive.ubuntu.com/ubuntu jammy-updates/main amd64 binutils-x86-64-linux-gnu amd64 2.38-4ubuntu2.6 [2,326 kB]\n",
            "Get:36 http://archive.ubuntu.com/ubuntu jammy-updates/main amd64 libbinutils amd64 2.38-4ubuntu2.6 [662 kB]\n",
            "Get:37 http://archive.ubuntu.com/ubuntu jammy-updates/main amd64 binutils amd64 2.38-4ubuntu2.6 [3,200 B]\n",
            "Get:38 http://archive.ubuntu.com/ubuntu jammy-updates/main amd64 binutils-common amd64 2.38-4ubuntu2.6 [222 kB]\n",
            "Get:39 http://archive.ubuntu.com/ubuntu jammy-updates/main amd64 dpkg-dev all 1.21.1ubuntu2.3 [922 kB]\n",
            "Get:40 http://archive.ubuntu.com/ubuntu jammy-updates/main amd64 libdpkg-perl all 1.21.1ubuntu2.3 [237 kB]\n",
            "Get:41 http://archive.ubuntu.com/ubuntu jammy-updates/main amd64 libcups2 amd64 2.4.1op1-1ubuntu4.10 [263 kB]\n",
            "Get:42 http://archive.ubuntu.com/ubuntu jammy-updates/main amd64 libldap-2.5-0 amd64 2.5.17+dfsg-0ubuntu0.22.04.1 [183 kB]\n",
            "Get:43 http://archive.ubuntu.com/ubuntu jammy-updates/main amd64 linux-libc-dev amd64 5.15.0-113.123 [1,342 kB]\n",
            "Fetched 59.9 MB in 3s (23.3 MB/s)\n",
            "Extracting templates from packages: 100%\n",
            "Preconfiguring packages ...\n",
            "(Reading database ... 121925 files and directories currently installed.)\n",
            "Preparing to unpack .../base-files_12ubuntu4.6_amd64.deb ...\n",
            "Unpacking base-files (12ubuntu4.6) over (12ubuntu4.4) ...\n",
            "Setting up base-files (12ubuntu4.6) ...\n",
            "Installing new version of config file /etc/issue ...\n",
            "Installing new version of config file /etc/issue.net ...\n",
            "Installing new version of config file /etc/lsb-release ...\n",
            "Installing new version of config file /etc/update-motd.d/10-help-text ...\n",
            "(Reading database ... 121925 files and directories currently installed.)\n",
            "Preparing to unpack .../bash_5.1-6ubuntu1.1_amd64.deb ...\n",
            "Unpacking bash (5.1-6ubuntu1.1) over (5.1-6ubuntu1) ...\n",
            "Setting up bash (5.1-6ubuntu1.1) ...\n",
            "update-alternatives: using /usr/share/man/man7/bash-builtins.7.gz to provide /usr/share/man/man7/builtins.7.gz (builtins.7.gz) in auto mode\n",
            "(Reading database ... 121925 files and directories currently installed.)\n",
            "Preparing to unpack .../bsdutils_1%3a2.37.2-4ubuntu3.4_amd64.deb ...\n",
            "Unpacking bsdutils (1:2.37.2-4ubuntu3.4) over (1:2.37.2-4ubuntu3) ...\n",
            "Setting up bsdutils (1:2.37.2-4ubuntu3.4) ...\n",
            "(Reading database ... 121925 files and directories currently installed.)\n",
            "Preparing to unpack .../coreutils_8.32-4.1ubuntu1.2_amd64.deb ...\n",
            "Unpacking coreutils (8.32-4.1ubuntu1.2) over (8.32-4.1ubuntu1) ...\n",
            "Setting up coreutils (8.32-4.1ubuntu1.2) ...\n",
            "(Reading database ... 121925 files and directories currently installed.)\n",
            "Preparing to unpack .../tar_1.34+dfsg-1ubuntu0.1.22.04.2_amd64.deb ...\n",
            "Unpacking tar (1.34+dfsg-1ubuntu0.1.22.04.2) over (1.34+dfsg-1ubuntu0.1.22.04.1) ...\n",
            "Setting up tar (1.34+dfsg-1ubuntu0.1.22.04.2) ...\n",
            "update-alternatives: warning: forcing reinstallation of alternative /usr/sbin/rmt-tar because link group rmt is broken\n",
            "(Reading database ... 121925 files and directories currently installed.)\n",
            "Preparing to unpack .../dpkg_1.21.1ubuntu2.3_amd64.deb ...\n",
            "Unpacking dpkg (1.21.1ubuntu2.3) over (1.21.1ubuntu2.2) ...\n",
            "Setting up dpkg (1.21.1ubuntu2.3) ...\n",
            "(Reading database ... 121925 files and directories currently installed.)\n",
            "Preparing to unpack .../login_1%3a4.8.1-2ubuntu2.2_amd64.deb ...\n",
            "Unpacking login (1:4.8.1-2ubuntu2.2) over (1:4.8.1-2ubuntu2.1) ...\n",
            "Setting up login (1:4.8.1-2ubuntu2.2) ...\n",
            "(Reading database ... 121925 files and directories currently installed.)\n",
            "Preparing to unpack .../libperl5.34_5.34.0-3ubuntu1.3_amd64.deb ...\n",
            "Unpacking libperl5.34:amd64 (5.34.0-3ubuntu1.3) over (5.34.0-3ubuntu1.2) ...\n",
            "Preparing to unpack .../perl_5.34.0-3ubuntu1.3_amd64.deb ...\n",
            "Unpacking perl (5.34.0-3ubuntu1.3) over (5.34.0-3ubuntu1.2) ...\n",
            "Preparing to unpack .../perl-base_5.34.0-3ubuntu1.3_amd64.deb ...\n",
            "Unpacking perl-base (5.34.0-3ubuntu1.3) over (5.34.0-3ubuntu1.2) ...\n",
            "Setting up perl-base (5.34.0-3ubuntu1.3) ...\n",
            "(Reading database ... 121925 files and directories currently installed.)\n",
            "Preparing to unpack .../perl-modules-5.34_5.34.0-3ubuntu1.3_all.deb ...\n",
            "Unpacking perl-modules-5.34 (5.34.0-3ubuntu1.3) over (5.34.0-3ubuntu1.2) ...\n",
            "Preparing to unpack .../util-linux_2.37.2-4ubuntu3.4_amd64.deb ...\n",
            "Unpacking util-linux (2.37.2-4ubuntu3.4) over (2.37.2-4ubuntu3) ...\n",
            "Setting up util-linux (2.37.2-4ubuntu3.4) ...\n",
            "(Reading database ... 121925 files and directories currently installed.)\n",
            "Preparing to unpack .../libc-bin_2.35-0ubuntu3.8_amd64.deb ...\n",
            "Unpacking libc-bin (2.35-0ubuntu3.8) over (2.35-0ubuntu3.4) ...\n",
            "Setting up libc-bin (2.35-0ubuntu3.8) ...\n",
            "/sbin/ldconfig.real: /usr/local/lib/libtbbbind.so.3 is not a symbolic link\n",
            "\n",
            "/sbin/ldconfig.real: /usr/local/lib/libtbbmalloc_proxy.so.2 is not a symbolic link\n",
            "\n",
            "/sbin/ldconfig.real: /usr/local/lib/libtbbmalloc.so.2 is not a symbolic link\n",
            "\n",
            "/sbin/ldconfig.real: /usr/local/lib/libtbbbind_2_5.so.3 is not a symbolic link\n",
            "\n",
            "/sbin/ldconfig.real: /usr/local/lib/libtbb.so.12 is not a symbolic link\n",
            "\n",
            "/sbin/ldconfig.real: /usr/local/lib/libtbbbind_2_0.so.3 is not a symbolic link\n",
            "\n",
            "(Reading database ... 121925 files and directories currently installed.)\n",
            "Preparing to unpack .../libpam0g_1.4.0-11ubuntu2.4_amd64.deb ...\n",
            "Unpacking libpam0g:amd64 (1.4.0-11ubuntu2.4) over (1.4.0-11ubuntu2.3) ...\n",
            "Setting up libpam0g:amd64 (1.4.0-11ubuntu2.4) ...\n",
            "(Reading database ... 121925 files and directories currently installed.)\n",
            "Preparing to unpack .../libpam-modules-bin_1.4.0-11ubuntu2.4_amd64.deb ...\n",
            "Unpacking libpam-modules-bin (1.4.0-11ubuntu2.4) over (1.4.0-11ubuntu2.3) ...\n",
            "Setting up libpam-modules-bin (1.4.0-11ubuntu2.4) ...\n",
            "(Reading database ... 121925 files and directories currently installed.)\n",
            "Preparing to unpack .../libpam-modules_1.4.0-11ubuntu2.4_amd64.deb ...\n",
            "Unpacking libpam-modules:amd64 (1.4.0-11ubuntu2.4) over (1.4.0-11ubuntu2.3) ...\n",
            "Setting up libpam-modules:amd64 (1.4.0-11ubuntu2.4) ...\n",
            "(Reading database ... 121925 files and directories currently installed.)\n",
            "Preparing to unpack .../mount_2.37.2-4ubuntu3.4_amd64.deb ...\n",
            "Unpacking mount (2.37.2-4ubuntu3.4) over (2.37.2-4ubuntu3) ...\n",
            "Preparing to unpack .../libblkid1_2.37.2-4ubuntu3.4_amd64.deb ...\n",
            "Unpacking libblkid1:amd64 (2.37.2-4ubuntu3.4) over (2.37.2-4ubuntu3) ...\n",
            "Setting up libblkid1:amd64 (2.37.2-4ubuntu3.4) ...\n",
            "(Reading database ... 121925 files and directories currently installed.)\n",
            "Preparing to unpack .../libmount1_2.37.2-4ubuntu3.4_amd64.deb ...\n",
            "Unpacking libmount1:amd64 (2.37.2-4ubuntu3.4) over (2.37.2-4ubuntu3) ...\n",
            "Setting up libmount1:amd64 (2.37.2-4ubuntu3.4) ...\n",
            "(Reading database ... 121925 files and directories currently installed.)\n",
            "Preparing to unpack .../libpam-runtime_1.4.0-11ubuntu2.4_all.deb ...\n",
            "Unpacking libpam-runtime (1.4.0-11ubuntu2.4) over (1.4.0-11ubuntu2.3) ...\n",
            "Setting up libpam-runtime (1.4.0-11ubuntu2.4) ...\n",
            "(Reading database ... 121925 files and directories currently installed.)\n",
            "Preparing to unpack .../libsmartcols1_2.37.2-4ubuntu3.4_amd64.deb ...\n",
            "Unpacking libsmartcols1:amd64 (2.37.2-4ubuntu3.4) over (2.37.2-4ubuntu3) ...\n",
            "Setting up libsmartcols1:amd64 (2.37.2-4ubuntu3.4) ...\n",
            "(Reading database ... 121925 files and directories currently installed.)\n",
            "Preparing to unpack .../libudev1_249.11-0ubuntu3.12_amd64.deb ...\n",
            "Unpacking libudev1:amd64 (249.11-0ubuntu3.12) over (249.11-0ubuntu3.10) ...\n",
            "Setting up libudev1:amd64 (249.11-0ubuntu3.12) ...\n",
            "(Reading database ... 121925 files and directories currently installed.)\n",
            "Preparing to unpack .../passwd_1%3a4.8.1-2ubuntu2.2_amd64.deb ...\n",
            "Unpacking passwd (1:4.8.1-2ubuntu2.2) over (1:4.8.1-2ubuntu2.1) ...\n",
            "Setting up passwd (1:4.8.1-2ubuntu2.2) ...\n",
            "(Reading database ... 121925 files and directories currently installed.)\n",
            "Preparing to unpack .../libgnutls30_3.7.3-4ubuntu1.5_amd64.deb ...\n",
            "Unpacking libgnutls30:amd64 (3.7.3-4ubuntu1.5) over (3.7.3-4ubuntu1.2) ...\n",
            "Setting up libgnutls30:amd64 (3.7.3-4ubuntu1.5) ...\n",
            "(Reading database ... 121925 files and directories currently installed.)\n",
            "Preparing to unpack .../00-libprocps8_2%3a3.3.17-6ubuntu2.1_amd64.deb ...\n",
            "Unpacking libprocps8:amd64 (2:3.3.17-6ubuntu2.1) over (2:3.3.17-6ubuntu2) ...\n",
            "Preparing to unpack .../01-procps_2%3a3.3.17-6ubuntu2.1_amd64.deb ...\n",
            "Unpacking procps (2:3.3.17-6ubuntu2.1) over (2:3.3.17-6ubuntu2) ...\n",
            "Preparing to unpack .../02-openssl_3.0.2-0ubuntu1.16_amd64.deb ...\n",
            "Unpacking openssl (3.0.2-0ubuntu1.16) over (3.0.2-0ubuntu1.12) ...\n",
            "Preparing to unpack .../03-libctf0_2.38-4ubuntu2.6_amd64.deb ...\n",
            "Unpacking libctf0:amd64 (2.38-4ubuntu2.6) over (2.38-4ubuntu2.3) ...\n",
            "Preparing to unpack .../04-libctf-nobfd0_2.38-4ubuntu2.6_amd64.deb ...\n",
            "Unpacking libctf-nobfd0:amd64 (2.38-4ubuntu2.6) over (2.38-4ubuntu2.3) ...\n",
            "Preparing to unpack .../05-binutils-x86-64-linux-gnu_2.38-4ubuntu2.6_amd64.deb ...\n",
            "Unpacking binutils-x86-64-linux-gnu (2.38-4ubuntu2.6) over (2.38-4ubuntu2.3) ...\n",
            "Preparing to unpack .../06-libbinutils_2.38-4ubuntu2.6_amd64.deb ...\n",
            "Unpacking libbinutils:amd64 (2.38-4ubuntu2.6) over (2.38-4ubuntu2.3) ...\n",
            "Preparing to unpack .../07-binutils_2.38-4ubuntu2.6_amd64.deb ...\n",
            "Unpacking binutils (2.38-4ubuntu2.6) over (2.38-4ubuntu2.3) ...\n",
            "Preparing to unpack .../08-binutils-common_2.38-4ubuntu2.6_amd64.deb ...\n",
            "Unpacking binutils-common:amd64 (2.38-4ubuntu2.6) over (2.38-4ubuntu2.3) ...\n",
            "Preparing to unpack .../09-cuda-compat-12-2_535.183.01-1_amd64.deb ...\n",
            "Unpacking cuda-compat-12-2 (535.183.01-1) over (535.129.03-1) ...\n",
            "Preparing to unpack .../10-cuda-keyring_1.1-1_all.deb ...\n",
            "Unpacking cuda-keyring (1.1-1) over (1.0-1) ...\n",
            "Preparing to unpack .../11-cuda-toolkit-12-config-common_12.5.39-1_all.deb ...\n",
            "Unpacking cuda-toolkit-12-config-common (12.5.39-1) over (12.3.52-1) ...\n",
            "Preparing to unpack .../12-cuda-toolkit-config-common_12.5.39-1_all.deb ...\n",
            "Unpacking cuda-toolkit-config-common (12.5.39-1) over (12.3.52-1) ...\n",
            "Preparing to unpack .../13-dpkg-dev_1.21.1ubuntu2.3_all.deb ...\n",
            "Unpacking dpkg-dev (1.21.1ubuntu2.3) over (1.21.1ubuntu2.2) ...\n",
            "Preparing to unpack .../14-libdpkg-perl_1.21.1ubuntu2.3_all.deb ...\n",
            "Unpacking libdpkg-perl (1.21.1ubuntu2.3) over (1.21.1ubuntu2.2) ...\n",
            "Preparing to unpack .../15-libcdio19_2.1.0-3ubuntu0.2_amd64.deb ...\n",
            "Unpacking libcdio19:amd64 (2.1.0-3ubuntu0.2) over (2.1.0-3build1) ...\n",
            "Preparing to unpack .../16-libcups2_2.4.1op1-1ubuntu4.10_amd64.deb ...\n",
            "Unpacking libcups2:amd64 (2.4.1op1-1ubuntu4.10) over (2.4.1op1-1ubuntu4.9) ...\n",
            "Preparing to unpack .../17-libldap-2.5-0_2.5.17+dfsg-0ubuntu0.22.04.1_amd64.deb ...\n",
            "Unpacking libldap-2.5-0:amd64 (2.5.17+dfsg-0ubuntu0.22.04.1) over (2.5.16+dfsg-0ubuntu0.22.04.1) ...\n",
            "Preparing to unpack .../18-linux-libc-dev_5.15.0-113.123_amd64.deb ...\n",
            "Unpacking linux-libc-dev:amd64 (5.15.0-113.123) over (5.15.0-88.98) ...\n",
            "Setting up cuda-toolkit-config-common (12.5.39-1) ...\n",
            "Setting up cuda-compat-12-2 (535.183.01-1) ...\n",
            "Setting up binutils-common:amd64 (2.38-4ubuntu2.6) ...\n",
            "Setting up linux-libc-dev:amd64 (5.15.0-113.123) ...\n",
            "Setting up libctf-nobfd0:amd64 (2.38-4ubuntu2.6) ...\n",
            "Setting up libcdio19:amd64 (2.1.0-3ubuntu0.2) ...\n",
            "Setting up perl-modules-5.34 (5.34.0-3ubuntu1.3) ...\n",
            "Setting up libldap-2.5-0:amd64 (2.5.17+dfsg-0ubuntu0.22.04.1) ...\n",
            "Setting up cuda-keyring (1.1-1) ...\n",
            "Setting up libcups2:amd64 (2.4.1op1-1ubuntu4.10) ...\n",
            "Setting up mount (2.37.2-4ubuntu3.4) ...\n",
            "Setting up libbinutils:amd64 (2.38-4ubuntu2.6) ...\n",
            "Setting up openssl (3.0.2-0ubuntu1.16) ...\n",
            "Setting up cuda-toolkit-12-config-common (12.5.39-1) ...\n",
            "Setting up libprocps8:amd64 (2:3.3.17-6ubuntu2.1) ...\n",
            "Setting up libctf0:amd64 (2.38-4ubuntu2.6) ...\n",
            "Setting up libperl5.34:amd64 (5.34.0-3ubuntu1.3) ...\n",
            "Setting up perl (5.34.0-3ubuntu1.3) ...\n",
            "Setting up libdpkg-perl (1.21.1ubuntu2.3) ...\n",
            "Setting up procps (2:3.3.17-6ubuntu2.1) ...\n",
            "Setting up binutils-x86-64-linux-gnu (2.38-4ubuntu2.6) ...\n",
            "Setting up binutils (2.38-4ubuntu2.6) ...\n",
            "Setting up dpkg-dev (1.21.1ubuntu2.3) ...\n",
            "Processing triggers for man-db (2.10.2-1) ...\n",
            "Processing triggers for libc-bin (2.35-0ubuntu3.8) ...\n",
            "/sbin/ldconfig.real: /usr/local/lib/libtbbbind.so.3 is not a symbolic link\n",
            "\n",
            "/sbin/ldconfig.real: /usr/local/lib/libtbbmalloc_proxy.so.2 is not a symbolic link\n",
            "\n",
            "/sbin/ldconfig.real: /usr/local/lib/libtbbmalloc.so.2 is not a symbolic link\n",
            "\n",
            "/sbin/ldconfig.real: /usr/local/lib/libtbbbind_2_5.so.3 is not a symbolic link\n",
            "\n",
            "/sbin/ldconfig.real: /usr/local/lib/libtbb.so.12 is not a symbolic link\n",
            "\n",
            "/sbin/ldconfig.real: /usr/local/lib/libtbbbind_2_0.so.3 is not a symbolic link\n",
            "\n",
            "\n",
            "WARNING: apt does not have a stable CLI interface. Use with caution in scripts.\n",
            "\n"
          ]
        }
      ],
      "source": [
        "!apt update -qq\n",
        "!apt upgrade -y\n",
        "!apt install openjdk-8-jdk-headless -qq > /dev/null\n",
        "!wget -q https://archive.apache.org/dist/spark/spark-3.1.2/spark-3.1.2-bin-hadoop2.7.tgz\n",
        "!tar xf spark-3.1.2-bin-hadoop2.7.tgz\n",
        "!pip install -q findspark"
      ]
    },
    {
      "cell_type": "markdown",
      "source": [
        "### 1.2 Configurar as variáveis de ambiente"
      ],
      "metadata": {
        "id": "uH3eLtFbqhyz"
      }
    },
    {
      "cell_type": "code",
      "source": [
        "import os\n",
        "os.environ[\"JAVA_HOME\"] = \"/usr/lib/jvm/java-8-openjdk-amd64\"\n",
        "os.environ[\"SPARK_HOME\"] = \"/content/spark-3.1.2-bin-hadoop2.7\""
      ],
      "metadata": {
        "id": "JaJZxiCEoMiw"
      },
      "execution_count": 2,
      "outputs": []
    },
    {
      "cell_type": "markdown",
      "source": [
        "### 1.3 Inicializar o módulo `findspark`\n",
        "\n",
        "Configura o ambiente Python para encontrar os módulos e bibliotecas do Spark."
      ],
      "metadata": {
        "id": "pTZcZHn0rP_d"
      }
    },
    {
      "cell_type": "code",
      "source": [
        "import findspark\n",
        "findspark.init('spark-3.1.2-bin-hadoop2.7')"
      ],
      "metadata": {
        "id": "AlIMckWaoT7f"
      },
      "execution_count": 3,
      "outputs": []
    },
    {
      "cell_type": "markdown",
      "source": [
        "\n",
        "## 2. Preparação dos Dados\n",
        "\n",
        "### 2.1 Configurar SparkSession\n",
        "\n",
        "* Criar uma sessão spark para interagir com os dados usando DataFrames e Datasets;\n"
      ],
      "metadata": {
        "id": "zYdQh5XvrHS_"
      }
    },
    {
      "cell_type": "code",
      "source": [
        "from pyspark.sql import SparkSession\n",
        "spark = SparkSession.builder.master('local[*]').appName(\"emenda-parlamentar-spark\").config('spark.ui.port', '4050').getOrCreate()\n"
      ],
      "metadata": {
        "id": "YX7rbd-bpUdu"
      },
      "execution_count": 4,
      "outputs": []
    },
    {
      "cell_type": "markdown",
      "source": [
        "### 2.2 Carregar os dados\n",
        "\n",
        "Procedimento manual\n",
        "\n",
        "* Fazer download da base de dados em `https://github.com/rarodrigo-datasc/emenda-parlamentar-spark/blob/9ad7c0777998d337f00ae00ee11efedc7aa54127/EmendasParlamentares.zip`;\n",
        "* Fazer upload da base de dados para o projeto;\n",
        "\n",
        "Extração da base\n",
        "\n",
        "* Extrair a base de dados no formato \".zip\";\n",
        "* Ler os dados extraídos."
      ],
      "metadata": {
        "id": "sgu3G7H7276z"
      }
    },
    {
      "cell_type": "code",
      "source": [
        "import zipfile\n",
        "zipfile.ZipFile('./EmendasParlamentares.zip').extractall()\n"
      ],
      "metadata": {
        "id": "khi9WGehj-X2"
      },
      "execution_count": 6,
      "outputs": []
    },
    {
      "cell_type": "code",
      "source": [
        "df = spark.read.csv('./Emendas.csv', sep=';', encoding='ISO-8859-1', header=True)\n",
        "df.printSchema()\n",
        "df.show()\n"
      ],
      "metadata": {
        "colab": {
          "base_uri": "https://localhost:8080/"
        },
        "id": "9yrZdW39kF4C",
        "outputId": "4cd9e5cd-b4f1-4c43-ee3b-2a1f6a3157a8"
      },
      "execution_count": 14,
      "outputs": [
        {
          "output_type": "stream",
          "name": "stdout",
          "text": [
            "root\n",
            " |-- Código da Emenda: string (nullable = true)\n",
            " |-- Ano da Emenda: string (nullable = true)\n",
            " |-- Tipo de Emenda: string (nullable = true)\n",
            " |-- Código do Autor da Emenda: string (nullable = true)\n",
            " |-- Nome do Autor da Emenda: string (nullable = true)\n",
            " |-- Número da emenda: string (nullable = true)\n",
            " |-- Localidade do gasto: string (nullable = true)\n",
            " |-- Código Função: string (nullable = true)\n",
            " |-- Nome Função: string (nullable = true)\n",
            " |-- Código Subfunção: string (nullable = true)\n",
            " |-- Nome Subfunção: string (nullable = true)\n",
            " |-- Valor Empenhado: string (nullable = true)\n",
            " |-- Valor Liquidado: string (nullable = true)\n",
            " |-- Valor Pago: string (nullable = true)\n",
            " |-- Valor Restos A Pagar Inscritos: string (nullable = true)\n",
            " |-- Valor Restos A Pagar Cancelados: string (nullable = true)\n",
            " |-- Valor Restos A Pagar Pagos: string (nullable = true)\n",
            "\n",
            "+----------------+-------------+--------------------+-------------------------+-----------------------+----------------+--------------------+-------------+-------------------+----------------+--------------------+---------------+---------------+----------+------------------------------+-------------------------------+--------------------------+\n",
            "|Código da Emenda|Ano da Emenda|      Tipo de Emenda|Código do Autor da Emenda|Nome do Autor da Emenda|Número da emenda| Localidade do gasto|Código Função|        Nome Função|Código Subfunção|      Nome Subfunção|Valor Empenhado|Valor Liquidado|Valor Pago|Valor Restos A Pagar Inscritos|Valor Restos A Pagar Cancelados|Valor Restos A Pagar Pagos|\n",
            "+----------------+-------------+--------------------+-------------------------+-----------------------+----------------+--------------------+-------------+-------------------+----------------+--------------------+---------------+---------------+----------+------------------------------+-------------------------------+--------------------------+\n",
            "|    Sem informaç|         2014|Emenda Individual...|                      S/I|         Sem informação|             S/I|         BARIRI - SP|           10|              Saúde|             122| Administração geral|      200000,00|           0,00|      0,00|                          0,00|                           0,00|                 200000,00|\n",
            "|    Sem informaç|         2014|Emenda Individual...|                      S/I|         Sem informação|             S/I|          AMAPÁ (UF)|           10|              Saúde|             511|Saneamento básico...|     2000000,00|           0,00|      0,00|                          0,00|                     2000000,00|                      0,00|\n",
            "|    Sem informaç|         2014|Emenda Individual...|                      S/I|         Sem informação|             S/I|         JARDIM - MS|           10|              Saúde|             302|Assistência hospi...|     3380000,00|           0,00|      0,00|                          0,00|                     2600000,00|                 780000,00|\n",
            "|    Sem informaç|         2014|Emenda Individual...|                      S/I|         Sem informação|             S/I|        ITIRUÇU - BA|           27|   Desporto e lazer|             812|Desporto comunitário|      700000,00|           0,00|      0,00|                          0,00|                           0,00|                 700000,00|\n",
            "|    Sem informaç|         2014|Emenda Individual...|                      S/I|         Sem informação|             S/I|    CARAPICUÍBA - SP|           10|              Saúde|             302|Assistência hospi...|      999800,00|           0,00|      0,00|                          0,00|                           0,00|                 999800,00|\n",
            "|    Sem informaç|         2014|Emenda Individual...|                      S/I|         Sem informação|             S/I|        JANDIRA - SP|           10|              Saúde|             302|Assistência hospi...|     1199996,15|           0,00|      0,00|                          0,00|                      499996,15|                 700000,00|\n",
            "|    Sem informaç|         2014|Emenda Individual...|                      S/I|         Sem informação|             S/I|  NOVA FRIBURGO - RJ|           10|              Saúde|             302|Assistência hospi...|      998200,00|           0,00|      0,00|                          0,00|                      498200,00|                 500000,00|\n",
            "|    Sem informaç|         2014|Emenda Individual...|                      S/I|         Sem informação|             S/I|          AMAPÁ (UF)|           20|        Agricultura|             608|Promoção da produ...|     2443000,00|           0,00|      0,00|                     805000,00|                     2438000,00|                      0,00|\n",
            "|    Sem informaç|         2014|Emenda Individual...|                      S/I|         Sem informação|             S/I|  SÃO FRANCISCO - PB|           15|          Urbanismo|             451|infra-estrutura u...|      350000,00|           0,00|      0,00|                          0,00|                           0,00|                 350000,00|\n",
            "|    Sem informaç|         2014|Emenda Individual...|                      S/I|         Sem informação|             S/I|SÃO JOÃO DEL REI ...|           12|           Educação|             364|     Ensino superior|      500000,00|           0,00|      0,00|                          0,00|                       21493,64|                 478506,36|\n",
            "|    Sem informaç|         2014|Emenda Individual...|                      S/I|         Sem informação|             S/I|        PARAÍBA (UF)|           12|           Educação|             364|     Ensino superior|     2249984,57|           0,00|      0,00|                          0,00|                      700226,50|                1549758,07|\n",
            "|    Sem informaç|         2014|Emenda Individual...|                      S/I|         Sem informação|             S/I|SÃO FRANCISCO DE ...|           10|              Saúde|             302|Assistência hospi...|      320000,00|           0,00|      0,00|                          0,00|                           0,00|                 320000,00|\n",
            "|    Sem informaç|         2014|Emenda Individual...|                      S/I|         Sem informação|             S/I|     PERNAMBUCO (UF)|           12|           Educação|             847|Transferências pa...|      999995,70|           0,00|      0,00|                          0,00|                      240745,70|                 759250,00|\n",
            "|    Sem informaç|         2014|Emenda Individual...|                      S/I|         Sem informação|             S/I|   BELFORD ROXO - RJ|           23|Comércio e serviços|             695|             Turismo|      987500,00|           0,00|      0,00|                          0,00|                      975000,00|                  12500,00|\n",
            "|    Sem informaç|         2014|Emenda Individual...|                      S/I|         Sem informação|             S/I|         POMBAL - PB|           15|          Urbanismo|             451|infra-estrutura u...|      150000,00|           0,00|      0,00|                          0,00|                      146950,00|                   3050,00|\n",
            "|    Sem informaç|         2014|Emenda Individual...|                      S/I|         Sem informação|             S/I|            LUZ - MG|           10|              Saúde|             302|Assistência hospi...|      250000,00|           0,00|      0,00|                          0,00|                           0,00|                 250000,00|\n",
            "|    Sem informaç|         2014|Emenda Individual...|                      S/I|         Sem informação|             S/I| ESPÍRITO SANTO (UF)|           10|              Saúde|             122| Administração geral|      799992,56|           0,00|      0,00|                          0,00|                           0,00|                 799992,56|\n",
            "|    Sem informaç|         2014|Emenda Individual...|                      S/I|         Sem informação|             S/I|       PLANALTO - PR|           20|        Agricultura|             608|Promoção da produ...|      250000,00|           0,00|      0,00|                          0,00|                        6250,00|                 243750,00|\n",
            "|    Sem informaç|         2014|Emenda Individual...|                      S/I|         Sem informação|             S/I|      CARAPEBUS - RJ|           23|Comércio e serviços|             695|             Turismo|     1462500,00|           0,00|      0,00|                          0,00|                     1462500,00|                      0,00|\n",
            "|    Sem informaç|         2014|Emenda Individual...|                      S/I|         Sem informação|             S/I|         ITALVA - RJ|           23|Comércio e serviços|             695|             Turismo|      390000,00|           0,00|      0,00|                          0,00|                      390000,00|                      0,00|\n",
            "+----------------+-------------+--------------------+-------------------------+-----------------------+----------------+--------------------+-------------+-------------------+----------------+--------------------+---------------+---------------+----------+------------------------------+-------------------------------+--------------------------+\n",
            "only showing top 20 rows\n",
            "\n"
          ]
        }
      ]
    }
  ]
}